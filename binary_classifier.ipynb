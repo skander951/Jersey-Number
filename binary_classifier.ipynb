{
 "cells": [
  {
   "cell_type": "code",
   "execution_count": null,
   "id": "1df7ceee",
   "metadata": {},
   "outputs": [],
   "source": [
    "import torch\n",
    "from torch.utils.data import DataLoader\n",
    "import matplotlib.pyplot as plt\n",
    "from src.models.filtre import ResNetBinaryClassifier,grid_filtre\n",
    "from src.models.train_test import plot_history\n",
    "from src.utils.helpers import save_json, count_total_parameters\n",
    "from src.data.data_loader import load_soccernet,load_diwan_test,load_diwan_train,load_processed,load_ca12,load_reid,load_full,BinaryDataset\n",
    "from src.data.data_handling import split_dataset, make_binary, plot_label_distribution"
   ]
  },
  {
   "cell_type": "code",
   "execution_count": null,
   "id": "4b9023d2",
   "metadata": {},
   "outputs": [],
   "source": [
    "device=torch.device(\"cuda\" if torch.cuda.is_available() else \"cpu\")\n",
    "print(f\"Using device: {device}\")"
   ]
  },
  {
   "cell_type": "code",
   "execution_count": null,
   "id": "880189e6",
   "metadata": {},
   "outputs": [],
   "source": [
    "basic_params=16\n",
    "model = ResNetBinaryClassifier(basic_params=basic_params)\n",
    "count_total_parameters(model)"
   ]
  },
  {
   "cell_type": "code",
   "execution_count": null,
   "id": "43ec1b7e",
   "metadata": {},
   "outputs": [],
   "source": [
    "thresh_ca12 = 0.6\n",
    "max_thresh_reid = 0.6\n",
    "min_thresh_reid = 0.02\n",
    "\n",
    "path1 = \"data/diwan/test\"\n",
    "path2_1 = \"data/diwan/train/seif_train_gt.json\"\n",
    "path2_2 = \"data/diwan/train/skander_train_gt.json\"\n",
    "path3 = \"data/soccernet\"\n",
    "path4 = \"data/ca12\"\n",
    "path5 = \"data/soccernet_reid\"\n",
    "path6 = \"data/full_dataset\"\n",
    "path7 = \"data/processed_dataset\"\n",
    "\n",
    "data1 = load_diwan_test(path1)\n",
    "print(len(data1),\"images dans diwan test\")\n",
    "data2 = load_diwan_train([path2_1,path2_2])\n",
    "print(len(data2),\"images dans diwan test\")\n",
    "data3 = load_soccernet(path3)\n",
    "print(len(data3),\"images dans soccernet\")\n",
    "data4 = load_ca12(path4,thresh=thresh_ca12)\n",
    "print(len(data4),\"images dans ca12\")\n",
    "data5 = load_reid(path5,max_thresh=max_thresh_reid,min_thresh=min_thresh_reid)\n",
    "print(len(data5),\"images dans reid_soccernet\")\n",
    "data6 = load_full(path6)\n",
    "print(len(data6),\"images dans full_dataset\")\n",
    "data7 = load_processed(path7,data = data6)\n",
    "print(len(data7),\"images dans processed\")"
   ]
  },
  {
   "cell_type": "code",
   "execution_count": null,
   "id": "3f60f758",
   "metadata": {},
   "outputs": [],
   "source": [
    "train_data =  data3 + data4 + data5 + data6 + data7\n",
    "test_data = data1 + data2"
   ]
  },
  {
   "cell_type": "code",
   "execution_count": null,
   "id": "5b883a3c",
   "metadata": {},
   "outputs": [],
   "source": [
    "train_data = make_binary(train_data,balance=True)\n",
    "test_data = make_binary(test_data,balance=True)\n",
    "print(len(train_data),\"images dans train\")\n",
    "print(len(test_data),\"images dans test\")"
   ]
  },
  {
   "cell_type": "code",
   "execution_count": null,
   "id": "e19c9a14",
   "metadata": {},
   "outputs": [],
   "source": [
    "plot_label_distribution(train_data, title=\"Distribution du train\")\n",
    "plot_label_distribution(test_data, title=\"Distribution du test\")"
   ]
  },
  {
   "cell_type": "code",
   "execution_count": null,
   "id": "2dda85a8",
   "metadata": {},
   "outputs": [],
   "source": [
    "split_ratio = 0.8\n",
    "train, valid = split_dataset(train_data, split_ratio=split_ratio)\n",
    "print(len(train),\"train samples\")\n",
    "print(len(valid),\"valid samples\")"
   ]
  },
  {
   "cell_type": "code",
   "execution_count": null,
   "id": "55dd2ee1",
   "metadata": {},
   "outputs": [],
   "source": [
    "cut = \"topbottom\"\n",
    "image_size = (224, 224)\n",
    "train_dataset = BinaryDataset(train, image_size=image_size,cut=cut)\n",
    "valid_dataset = BinaryDataset(valid, image_size=image_size,cut=cut)"
   ]
  },
  {
   "cell_type": "code",
   "execution_count": null,
   "id": "a4f13e55",
   "metadata": {},
   "outputs": [],
   "source": [
    "# DataLoaders\n",
    "batch_size = 64\n",
    "workers = 2\n",
    "train_loader = DataLoader(train_dataset,num_workers=workers, batch_size=batch_size, shuffle=True,pin_memory=True)\n",
    "val_loader = DataLoader(valid_dataset,num_workers=workers, batch_size=batch_size, shuffle=False,pin_memory=True)"
   ]
  },
  {
   "cell_type": "code",
   "execution_count": null,
   "id": "d0ae4e44",
   "metadata": {},
   "outputs": [],
   "source": [
    "num_epochs = 50\n",
    "train_history = model.train_legib(num_epochs=num_epochs, train_loader=train_loader, valid_loader=val_loader, device=device)"
   ]
  },
  {
   "cell_type": "code",
   "execution_count": null,
   "id": "de96cef7",
   "metadata": {},
   "outputs": [],
   "source": [
    "fig = plot_history(train_history)"
   ]
  },
  {
   "cell_type": "code",
   "execution_count": null,
   "id": "1a031c56",
   "metadata": {},
   "outputs": [],
   "source": [
    "test_dataset = BinaryDataset(test_data, image_size=image_size,cut=cut)\n",
    "test_loader = DataLoader(test_dataset,num_workers=workers, batch_size=batch_size, shuffle=True,pin_memory=True)"
   ]
  },
  {
   "cell_type": "code",
   "execution_count": null,
   "id": "8c4a8b3d",
   "metadata": {},
   "outputs": [],
   "source": [
    "metrics,cm = model.test_legib(test_loader, device=device)"
   ]
  },
  {
   "cell_type": "code",
   "execution_count": null,
   "id": "8b3cc1fd",
   "metadata": {},
   "outputs": [],
   "source": [
    "model_name = f'filtre_thresh_{thresh_ca12}_basic_params_{basic_params}'\n",
    "torch.save(model, f\"results/weights/{model_name}.pth\")\n",
    "save_json(metrics, f'results/test_metrics/{model_name}.json')\n",
    "cm.savefig(f'results/test_metrics/cm_{model_name}.png')\n",
    "fig.savefig(f'results/train_history/{model_name}.png')\n",
    "plt.close(fig)"
   ]
  },
  {
   "cell_type": "code",
   "execution_count": null,
   "id": "001788da",
   "metadata": {},
   "outputs": [],
   "source": [
    "image_grid = grid_filtre(model=model,test_loader=test_loader,filtre = \"all\")"
   ]
  },
  {
   "cell_type": "code",
   "execution_count": null,
   "id": "8821b236",
   "metadata": {},
   "outputs": [],
   "source": [
    "image_grid.savefig(f'results/test_grid/{model_name}.png')\n",
    "plt.close(image_grid)"
   ]
  }
 ],
 "metadata": {
  "kernelspec": {
   "display_name": "jersey",
   "language": "python",
   "name": "python3"
  },
  "language_info": {
   "codemirror_mode": {
    "name": "ipython",
    "version": 3
   },
   "file_extension": ".py",
   "mimetype": "text/x-python",
   "name": "python",
   "nbconvert_exporter": "python",
   "pygments_lexer": "ipython3",
   "version": "3.10.18"
  }
 },
 "nbformat": 4,
 "nbformat_minor": 5
}
