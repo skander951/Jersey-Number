{
 "cells": [
  {
   "cell_type": "code",
   "execution_count": null,
   "id": "a961076a",
   "metadata": {},
   "outputs": [],
   "source": [
    "import torch\n",
    "import torch.nn as nn"
   ]
  },
  {
   "cell_type": "code",
   "execution_count": 3,
   "id": "c5181802",
   "metadata": {},
   "outputs": [],
   "source": [
    "chemin_model=\"results/finetuned_models/ftd_dirichlet_thresh0.6.pth\""
   ]
  },
  {
   "cell_type": "code",
   "execution_count": 4,
   "id": "b03343fc",
   "metadata": {},
   "outputs": [
    {
     "name": "stdout",
     "output_type": "stream",
     "text": [
      "Using device: cuda\n"
     ]
    }
   ],
   "source": [
    "device = torch.device(\"cuda\" if torch.cuda.is_available() else \"cpu\")\n",
    "print(f\"Using device: {device}\")"
   ]
  },
  {
   "cell_type": "code",
   "execution_count": 5,
   "id": "3f710212",
   "metadata": {},
   "outputs": [
    {
     "name": "stderr",
     "output_type": "stream",
     "text": [
      "C:\\Users\\skouz\\AppData\\Local\\Temp\\ipykernel_16888\\55063412.py:1: FutureWarning: You are using `torch.load` with `weights_only=False` (the current default value), which uses the default pickle module implicitly. It is possible to construct malicious pickle data which will execute arbitrary code during unpickling (See https://github.com/pytorch/pytorch/blob/main/SECURITY.md#untrusted-models for more details). In a future release, the default value for `weights_only` will be flipped to `True`. This limits the functions that could be executed during unpickling. Arbitrary objects will no longer be allowed to be loaded via this mode unless they are explicitly allowlisted by the user via `torch.serialization.add_safe_globals`. We recommend you start setting `weights_only=True` for any use case where you don't have full control of the loaded file. Please open an issue on GitHub for any issues related to this experimental feature.\n",
      "  model = torch.load(chemin_model, map_location=device)\n"
     ]
    }
   ],
   "source": [
    "model = torch.load(chemin_model, map_location=device)\n",
    "model.eval()\n",
    "b = model"
   ]
  },
  {
   "cell_type": "code",
   "execution_count": 6,
   "id": "415fd400",
   "metadata": {},
   "outputs": [],
   "source": [
    "class VitONNXWrapper(nn.Module):\n",
    "    def __init__(self, vit_model):\n",
    "        super().__init__()\n",
    "        self.vit_model = vit_model\n",
    "\n",
    "    def forward(self, x):\n",
    "        out = self.vit_model(x)\n",
    "        return out.number_logits"
   ]
  },
  {
   "cell_type": "code",
   "execution_count": 7,
   "id": "3b5d4f10",
   "metadata": {},
   "outputs": [],
   "source": [
    "wrapped_model = VitONNXWrapper(b).to(device)\n",
    "wrapped_model.eval()\n",
    "a = wrapped_model"
   ]
  },
  {
   "cell_type": "code",
   "execution_count": 8,
   "id": "bdf85acd",
   "metadata": {},
   "outputs": [],
   "source": [
    "dummy_input = torch.randn(1, 3, 224, 224).to(device)"
   ]
  },
  {
   "cell_type": "code",
   "execution_count": 9,
   "id": "5537b879",
   "metadata": {},
   "outputs": [
    {
     "name": "stderr",
     "output_type": "stream",
     "text": [
      "c:\\Users\\skouz\\anaconda3\\envs\\jersey\\lib\\site-packages\\transformers\\models\\vit\\modeling_vit.py:154: TracerWarning: Converting a tensor to a Python boolean might cause the trace to be incorrect. We can't record the data flow of Python values, so this value will be treated as a constant in the future. This means that the trace might not generalize to other inputs!\n",
      "  if num_channels != self.num_channels:\n",
      "c:\\Users\\skouz\\anaconda3\\envs\\jersey\\lib\\site-packages\\transformers\\models\\vit\\modeling_vit.py:160: TracerWarning: Converting a tensor to a Python boolean might cause the trace to be incorrect. We can't record the data flow of Python values, so this value will be treated as a constant in the future. This means that the trace might not generalize to other inputs!\n",
      "  if height != self.image_size[0] or width != self.image_size[1]:\n"
     ]
    }
   ],
   "source": [
    "torch.onnx.export(\n",
    "    wrapped_model,\n",
    "    dummy_input,\n",
    "    \"vit_model.onnx\",\n",
    "    input_names=[\"input\"],\n",
    "    output_names=[\"number_logits\"],  # name logique\n",
    "    dynamic_axes={\"input\": {0: \"batch_size\"}, \"number_logits\": {0: \"batch_size\"}},\n",
    "    opset_version=14,\n",
    "    do_constant_folding=True,\n",
    ")"
   ]
  }
 ],
 "metadata": {
  "kernelspec": {
   "display_name": "jersey",
   "language": "python",
   "name": "python3"
  },
  "language_info": {
   "codemirror_mode": {
    "name": "ipython",
    "version": 3
   },
   "file_extension": ".py",
   "mimetype": "text/x-python",
   "name": "python",
   "nbconvert_exporter": "python",
   "pygments_lexer": "ipython3",
   "version": "3.10.18"
  }
 },
 "nbformat": 4,
 "nbformat_minor": 5
}
