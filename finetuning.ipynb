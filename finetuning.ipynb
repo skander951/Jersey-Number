{
 "cells": [
  {
   "cell_type": "code",
   "execution_count": 1,
   "id": "8f761cd1",
   "metadata": {},
   "outputs": [],
   "source": [
    "import torch\n",
    "import torch.optim as optim\n",
    "from torch.utils.data import DataLoader\n",
    "from src.models.loss import LossWrapper,Type2DirichletLoss\n",
    "from src.data.data_loader import load_diwan_test,load_diwan_train,load_final,JerseyNumberDataset\n",
    "from src.data.data_handling import split_dataset, balancer\n",
    "from src.models.train_test import train, plot_history\n",
    "from src.models.train_test import train, test, grid\n",
    "import os\n",
    "import pandas as pd\n",
    "import matplotlib.pyplot as plt"
   ]
  },
  {
   "cell_type": "code",
   "execution_count": 2,
   "id": "15451374",
   "metadata": {},
   "outputs": [],
   "source": [
    "chemin_model=\"results/weights/new_aug_20K_blur_0.3_dirichlet_thresh0.6.pth\"\n",
    "model_name = 'new_aug_20K_blur_0.3_dirichlet_thresh0.6'"
   ]
  },
  {
   "cell_type": "code",
   "execution_count": 3,
   "id": "35ba0b9b",
   "metadata": {},
   "outputs": [
    {
     "name": "stdout",
     "output_type": "stream",
     "text": [
      "Using device: cuda\n"
     ]
    },
    {
     "name": "stderr",
     "output_type": "stream",
     "text": [
      "C:\\Users\\skouz\\AppData\\Local\\Temp\\ipykernel_8136\\2604237465.py:3: FutureWarning: You are using `torch.load` with `weights_only=False` (the current default value), which uses the default pickle module implicitly. It is possible to construct malicious pickle data which will execute arbitrary code during unpickling (See https://github.com/pytorch/pytorch/blob/main/SECURITY.md#untrusted-models for more details). In a future release, the default value for `weights_only` will be flipped to `True`. This limits the functions that could be executed during unpickling. Arbitrary objects will no longer be allowed to be loaded via this mode unless they are explicitly allowlisted by the user via `torch.serialization.add_safe_globals`. We recommend you start setting `weights_only=True` for any use case where you don't have full control of the loaded file. Please open an issue on GitHub for any issues related to this experimental feature.\n",
      "  model = torch.load(chemin_model, map_location=device)\n"
     ]
    }
   ],
   "source": [
    "device = torch.device(\"cuda\" if torch.cuda.is_available() else \"cpu\")\n",
    "print(f\"Using device: {device}\")\n",
    "model = torch.load(chemin_model, map_location=device)\n",
    "model.eval()\n",
    "b = model"
   ]
  },
  {
   "cell_type": "code",
   "execution_count": 4,
   "id": "ce254a44",
   "metadata": {},
   "outputs": [],
   "source": [
    "path1 = \"data/diwan/test\"\n",
    "path2_1 = \"data/diwan/train/seif_train_gt.json\"\n",
    "path2_2 = \"data/diwan/train/skander_train_gt.json\"\n",
    "data1 = load_diwan_test(path1)\n",
    "data2 = load_diwan_train([path2_1,path2_2])\n",
    "data = data1 + data2"
   ]
  },
  {
   "cell_type": "code",
   "execution_count": 5,
   "id": "d5c949ef",
   "metadata": {},
   "outputs": [
    {
     "name": "stdout",
     "output_type": "stream",
     "text": [
      "total finetune :  3887\n"
     ]
    }
   ],
   "source": [
    "data_fine = balancer(data,max_0 = 0)\n",
    "print(\"total finetune : \", len(data_fine))"
   ]
  },
  {
   "cell_type": "code",
   "execution_count": 6,
   "id": "c23f1ff3",
   "metadata": {},
   "outputs": [
    {
     "name": "stdout",
     "output_type": "stream",
     "text": [
      "total test :  1028\n"
     ]
    }
   ],
   "source": [
    "path_test = \"data/final/images\"\n",
    "test_data = load_final(path_test)\n",
    "test_ndhif = balancer(test_data,max_0 = 0)\n",
    "print(\"total test : \", len(test_ndhif))"
   ]
  },
  {
   "cell_type": "code",
   "execution_count": 7,
   "id": "9c6f3da0",
   "metadata": {},
   "outputs": [
    {
     "name": "stdout",
     "output_type": "stream",
     "text": [
      "3692 train samples\n",
      "195 valid samples\n"
     ]
    }
   ],
   "source": [
    "train_data, valid_data = split_dataset(data_fine, split_ratio=0.95)\n",
    "print(len(train_data),\"train samples\")\n",
    "print(len(valid_data),\"valid samples\")"
   ]
  },
  {
   "cell_type": "code",
   "execution_count": 8,
   "id": "048f3992",
   "metadata": {},
   "outputs": [],
   "source": [
    "cut = \"topbottom\"\n",
    "image_size = (224, 224)\n",
    "train_dataset = JerseyNumberDataset(train_data, image_size=image_size,cut=cut,proof = True)\n",
    "valid_dataset = JerseyNumberDataset(valid_data, image_size=image_size,cut=cut,proof = True)"
   ]
  },
  {
   "cell_type": "code",
   "execution_count": 9,
   "id": "d4e5dbaa",
   "metadata": {},
   "outputs": [],
   "source": [
    "# DataLoaders\n",
    "batch_size = 64\n",
    "workers = 1\n",
    "train_loader = DataLoader(train_dataset,num_workers=workers, batch_size=batch_size, shuffle=True,pin_memory=True)\n",
    "val_loader = DataLoader(valid_dataset,num_workers=workers, batch_size=batch_size, shuffle=False,pin_memory=True)"
   ]
  },
  {
   "cell_type": "code",
   "execution_count": 10,
   "id": "46f0d75d",
   "metadata": {},
   "outputs": [],
   "source": [
    "test_dataset = JerseyNumberDataset(test_ndhif, image_size=image_size,cut=cut)\n",
    "test_loader = DataLoader(test_dataset,num_workers=workers, batch_size=batch_size, shuffle=True,pin_memory=True)"
   ]
  },
  {
   "cell_type": "code",
   "execution_count": 11,
   "id": "141a219f",
   "metadata": {},
   "outputs": [
    {
     "name": "stdout",
     "output_type": "stream",
     "text": [
      "Mask accuracy(unc_threshold=0.5) : 1.0000\n",
      "\n",
      "Accuracy:  0.5185\n",
      "\n",
      "Precision: 0.4133\n",
      "\n",
      "Recall:    0.3745\n",
      "\n",
      "F1-score:  0.3629\n",
      "\n"
     ]
    }
   ],
   "source": [
    "test_metrics = test(model, test_loader, device=device)"
   ]
  },
  {
   "cell_type": "code",
   "execution_count": 12,
   "id": "a9e6c692",
   "metadata": {},
   "outputs": [],
   "source": [
    "num_epochs = 10\n",
    "lr = 1e-5\n",
    "loss_fn = LossWrapper(Type2DirichletLoss(num_classes=100))\n",
    "optimizer = optim.Adam(model.parameters(), lr=lr)"
   ]
  },
  {
   "cell_type": "code",
   "execution_count": 13,
   "id": "c068a6d0",
   "metadata": {},
   "outputs": [
    {
     "name": "stdout",
     "output_type": "stream",
     "text": [
      "\n",
      "Epoch 1/10\n"
     ]
    },
    {
     "name": "stderr",
     "output_type": "stream",
     "text": [
      "Training: 100%|██████████| 58/58 [00:13<00:00,  4.30it/s]\n",
      "Validation: 100%|██████████| 4/4 [00:03<00:00,  1.25it/s]\n"
     ]
    },
    {
     "name": "stdout",
     "output_type": "stream",
     "text": [
      "Train loss: 1.8600 | Train acc: 0.5888 | Val loss: 1.6786 | Val acc: 0.6000 | Time: 16.72s \n",
      "\n",
      "Epoch 2/10\n"
     ]
    },
    {
     "name": "stderr",
     "output_type": "stream",
     "text": [
      "Training:  40%|███▉      | 23/58 [00:07<00:10,  3.21it/s]\n"
     ]
    },
    {
     "ename": "KeyboardInterrupt",
     "evalue": "",
     "output_type": "error",
     "traceback": [
      "\u001b[1;31m---------------------------------------------------------------------------\u001b[0m",
      "\u001b[1;31mKeyboardInterrupt\u001b[0m                         Traceback (most recent call last)",
      "Cell \u001b[1;32mIn[13], line 1\u001b[0m\n\u001b[1;32m----> 1\u001b[0m history \u001b[38;5;241m=\u001b[39m \u001b[43mtrain\u001b[49m\u001b[43m(\u001b[49m\u001b[43mmodel\u001b[49m\u001b[38;5;241;43m=\u001b[39;49m\u001b[43mmodel\u001b[49m\u001b[43m,\u001b[49m\u001b[43mtrain_loader\u001b[49m\u001b[38;5;241;43m=\u001b[39;49m\u001b[43mtrain_loader\u001b[49m\u001b[43m,\u001b[49m\u001b[43mval_loader\u001b[49m\u001b[38;5;241;43m=\u001b[39;49m\u001b[43mval_loader\u001b[49m\u001b[43m,\u001b[49m\n\u001b[0;32m      2\u001b[0m \u001b[43m    \u001b[49m\u001b[43moptimizer\u001b[49m\u001b[38;5;241;43m=\u001b[39;49m\u001b[43moptimizer\u001b[49m\u001b[43m,\u001b[49m\u001b[43mloss_fn\u001b[49m\u001b[38;5;241;43m=\u001b[39;49m\u001b[43mloss_fn\u001b[49m\u001b[43m,\u001b[49m\u001b[43mdevice\u001b[49m\u001b[38;5;241;43m=\u001b[39;49m\u001b[43mdevice\u001b[49m\u001b[43m,\u001b[49m\u001b[43mnum_epochs\u001b[49m\u001b[38;5;241;43m=\u001b[39;49m\u001b[43mnum_epochs\u001b[49m\u001b[43m)\u001b[49m\n",
      "File \u001b[1;32mc:\\Users\\skouz\\OneDrive\\Documents\\GitHub\\jersey_id\\src\\models\\train_test.py:58\u001b[0m, in \u001b[0;36mtrain\u001b[1;34m(model, train_loader, val_loader, optimizer, loss_fn, device, num_epochs)\u001b[0m\n\u001b[0;32m     56\u001b[0m optimizer\u001b[38;5;241m.\u001b[39mzero_grad()\n\u001b[0;32m     57\u001b[0m output \u001b[38;5;241m=\u001b[39m model(images)\n\u001b[1;32m---> 58\u001b[0m loss, \u001b[38;5;241m*\u001b[39m_ \u001b[38;5;241m=\u001b[39m \u001b[43mloss_fn\u001b[49m\u001b[43m(\u001b[49m\u001b[43moutput\u001b[49m\u001b[43m,\u001b[49m\u001b[43m \u001b[49m\u001b[43mlabels\u001b[49m\u001b[43m,\u001b[49m\u001b[43m \u001b[49m\u001b[43mhas_pred\u001b[49m\u001b[43m,\u001b[49m\u001b[43m \u001b[49m\u001b[43mstep\u001b[49m\u001b[43m)\u001b[49m\n\u001b[0;32m     59\u001b[0m loss\u001b[38;5;241m.\u001b[39mbackward()\n\u001b[0;32m     60\u001b[0m optimizer\u001b[38;5;241m.\u001b[39mstep()\n",
      "File \u001b[1;32mc:\\Users\\skouz\\anaconda3\\envs\\jersey\\lib\\site-packages\\torch\\nn\\modules\\module.py:1736\u001b[0m, in \u001b[0;36mModule._wrapped_call_impl\u001b[1;34m(self, *args, **kwargs)\u001b[0m\n\u001b[0;32m   1734\u001b[0m     \u001b[38;5;28;01mreturn\u001b[39;00m \u001b[38;5;28mself\u001b[39m\u001b[38;5;241m.\u001b[39m_compiled_call_impl(\u001b[38;5;241m*\u001b[39margs, \u001b[38;5;241m*\u001b[39m\u001b[38;5;241m*\u001b[39mkwargs)  \u001b[38;5;66;03m# type: ignore[misc]\u001b[39;00m\n\u001b[0;32m   1735\u001b[0m \u001b[38;5;28;01melse\u001b[39;00m:\n\u001b[1;32m-> 1736\u001b[0m     \u001b[38;5;28;01mreturn\u001b[39;00m \u001b[38;5;28mself\u001b[39m\u001b[38;5;241m.\u001b[39m_call_impl(\u001b[38;5;241m*\u001b[39margs, \u001b[38;5;241m*\u001b[39m\u001b[38;5;241m*\u001b[39mkwargs)\n",
      "File \u001b[1;32mc:\\Users\\skouz\\anaconda3\\envs\\jersey\\lib\\site-packages\\torch\\nn\\modules\\module.py:1747\u001b[0m, in \u001b[0;36mModule._call_impl\u001b[1;34m(self, *args, **kwargs)\u001b[0m\n\u001b[0;32m   1742\u001b[0m \u001b[38;5;66;03m# If we don't have any hooks, we want to skip the rest of the logic in\u001b[39;00m\n\u001b[0;32m   1743\u001b[0m \u001b[38;5;66;03m# this function, and just call forward.\u001b[39;00m\n\u001b[0;32m   1744\u001b[0m \u001b[38;5;28;01mif\u001b[39;00m \u001b[38;5;129;01mnot\u001b[39;00m (\u001b[38;5;28mself\u001b[39m\u001b[38;5;241m.\u001b[39m_backward_hooks \u001b[38;5;129;01mor\u001b[39;00m \u001b[38;5;28mself\u001b[39m\u001b[38;5;241m.\u001b[39m_backward_pre_hooks \u001b[38;5;129;01mor\u001b[39;00m \u001b[38;5;28mself\u001b[39m\u001b[38;5;241m.\u001b[39m_forward_hooks \u001b[38;5;129;01mor\u001b[39;00m \u001b[38;5;28mself\u001b[39m\u001b[38;5;241m.\u001b[39m_forward_pre_hooks\n\u001b[0;32m   1745\u001b[0m         \u001b[38;5;129;01mor\u001b[39;00m _global_backward_pre_hooks \u001b[38;5;129;01mor\u001b[39;00m _global_backward_hooks\n\u001b[0;32m   1746\u001b[0m         \u001b[38;5;129;01mor\u001b[39;00m _global_forward_hooks \u001b[38;5;129;01mor\u001b[39;00m _global_forward_pre_hooks):\n\u001b[1;32m-> 1747\u001b[0m     \u001b[38;5;28;01mreturn\u001b[39;00m forward_call(\u001b[38;5;241m*\u001b[39margs, \u001b[38;5;241m*\u001b[39m\u001b[38;5;241m*\u001b[39mkwargs)\n\u001b[0;32m   1749\u001b[0m result \u001b[38;5;241m=\u001b[39m \u001b[38;5;28;01mNone\u001b[39;00m\n\u001b[0;32m   1750\u001b[0m called_always_called_hooks \u001b[38;5;241m=\u001b[39m \u001b[38;5;28mset\u001b[39m()\n",
      "File \u001b[1;32mc:\\Users\\skouz\\OneDrive\\Documents\\GitHub\\jersey_id\\src\\models\\loss.py:11\u001b[0m, in \u001b[0;36mLossWrapper.forward\u001b[1;34m(self, model_output, targets, has_prediction, step)\u001b[0m\n\u001b[0;32m     10\u001b[0m \u001b[38;5;28;01mdef\u001b[39;00m\u001b[38;5;250m \u001b[39m\u001b[38;5;21mforward\u001b[39m(\u001b[38;5;28mself\u001b[39m,model_output,targets,has_prediction,step \u001b[38;5;241m=\u001b[39m \u001b[38;5;28;01mNone\u001b[39;00m):\n\u001b[1;32m---> 11\u001b[0m     \u001b[38;5;28;01mreturn\u001b[39;00m \u001b[38;5;28;43mself\u001b[39;49m\u001b[38;5;241;43m.\u001b[39;49m\u001b[43mloss_fn\u001b[49m\u001b[43m(\u001b[49m\u001b[43mmodel_output\u001b[49m\u001b[43m,\u001b[49m\u001b[43m \u001b[49m\u001b[43mtargets\u001b[49m\u001b[43m,\u001b[49m\u001b[43m \u001b[49m\u001b[43mhas_prediction\u001b[49m\u001b[43m,\u001b[49m\u001b[43m \u001b[49m\u001b[43mstep\u001b[49m\u001b[43m)\u001b[49m\n",
      "File \u001b[1;32mc:\\Users\\skouz\\anaconda3\\envs\\jersey\\lib\\site-packages\\torch\\nn\\modules\\module.py:1736\u001b[0m, in \u001b[0;36mModule._wrapped_call_impl\u001b[1;34m(self, *args, **kwargs)\u001b[0m\n\u001b[0;32m   1734\u001b[0m     \u001b[38;5;28;01mreturn\u001b[39;00m \u001b[38;5;28mself\u001b[39m\u001b[38;5;241m.\u001b[39m_compiled_call_impl(\u001b[38;5;241m*\u001b[39margs, \u001b[38;5;241m*\u001b[39m\u001b[38;5;241m*\u001b[39mkwargs)  \u001b[38;5;66;03m# type: ignore[misc]\u001b[39;00m\n\u001b[0;32m   1735\u001b[0m \u001b[38;5;28;01melse\u001b[39;00m:\n\u001b[1;32m-> 1736\u001b[0m     \u001b[38;5;28;01mreturn\u001b[39;00m \u001b[38;5;28mself\u001b[39m\u001b[38;5;241m.\u001b[39m_call_impl(\u001b[38;5;241m*\u001b[39margs, \u001b[38;5;241m*\u001b[39m\u001b[38;5;241m*\u001b[39mkwargs)\n",
      "File \u001b[1;32mc:\\Users\\skouz\\anaconda3\\envs\\jersey\\lib\\site-packages\\torch\\nn\\modules\\module.py:1747\u001b[0m, in \u001b[0;36mModule._call_impl\u001b[1;34m(self, *args, **kwargs)\u001b[0m\n\u001b[0;32m   1742\u001b[0m \u001b[38;5;66;03m# If we don't have any hooks, we want to skip the rest of the logic in\u001b[39;00m\n\u001b[0;32m   1743\u001b[0m \u001b[38;5;66;03m# this function, and just call forward.\u001b[39;00m\n\u001b[0;32m   1744\u001b[0m \u001b[38;5;28;01mif\u001b[39;00m \u001b[38;5;129;01mnot\u001b[39;00m (\u001b[38;5;28mself\u001b[39m\u001b[38;5;241m.\u001b[39m_backward_hooks \u001b[38;5;129;01mor\u001b[39;00m \u001b[38;5;28mself\u001b[39m\u001b[38;5;241m.\u001b[39m_backward_pre_hooks \u001b[38;5;129;01mor\u001b[39;00m \u001b[38;5;28mself\u001b[39m\u001b[38;5;241m.\u001b[39m_forward_hooks \u001b[38;5;129;01mor\u001b[39;00m \u001b[38;5;28mself\u001b[39m\u001b[38;5;241m.\u001b[39m_forward_pre_hooks\n\u001b[0;32m   1745\u001b[0m         \u001b[38;5;129;01mor\u001b[39;00m _global_backward_pre_hooks \u001b[38;5;129;01mor\u001b[39;00m _global_backward_hooks\n\u001b[0;32m   1746\u001b[0m         \u001b[38;5;129;01mor\u001b[39;00m _global_forward_hooks \u001b[38;5;129;01mor\u001b[39;00m _global_forward_pre_hooks):\n\u001b[1;32m-> 1747\u001b[0m     \u001b[38;5;28;01mreturn\u001b[39;00m forward_call(\u001b[38;5;241m*\u001b[39margs, \u001b[38;5;241m*\u001b[39m\u001b[38;5;241m*\u001b[39mkwargs)\n\u001b[0;32m   1749\u001b[0m result \u001b[38;5;241m=\u001b[39m \u001b[38;5;28;01mNone\u001b[39;00m\n\u001b[0;32m   1750\u001b[0m called_always_called_hooks \u001b[38;5;241m=\u001b[39m \u001b[38;5;28mset\u001b[39m()\n",
      "File \u001b[1;32mc:\\Users\\skouz\\OneDrive\\Documents\\GitHub\\jersey_id\\src\\models\\loss.py:32\u001b[0m, in \u001b[0;36mType2DirichletLoss.forward\u001b[1;34m(self, model_output, targets, has_prediction, step)\u001b[0m\n\u001b[0;32m     29\u001b[0m targets_one_hot \u001b[38;5;241m=\u001b[39m F\u001b[38;5;241m.\u001b[39mone_hot(targets, num_classes\u001b[38;5;241m=\u001b[39m\u001b[38;5;28mself\u001b[39m\u001b[38;5;241m.\u001b[39mnum_classes)\u001b[38;5;241m.\u001b[39mfloat()\n\u001b[0;32m     30\u001b[0m ml_loss \u001b[38;5;241m=\u001b[39m torch\u001b[38;5;241m.\u001b[39msum(targets_one_hot \u001b[38;5;241m*\u001b[39m (torch\u001b[38;5;241m.\u001b[39mlog(S\u001b[38;5;241m.\u001b[39munsqueeze(\u001b[38;5;241m1\u001b[39m)) \u001b[38;5;241m-\u001b[39m torch\u001b[38;5;241m.\u001b[39mlog(alpha)), dim\u001b[38;5;241m=\u001b[39m\u001b[38;5;241m1\u001b[39m)\n\u001b[1;32m---> 32\u001b[0m uniform_alpha \u001b[38;5;241m=\u001b[39m \u001b[38;5;28;43mself\u001b[39;49m\u001b[38;5;241;43m.\u001b[39;49m\u001b[43muniform_alpha\u001b[49m\u001b[38;5;241;43m.\u001b[39;49m\u001b[43mto\u001b[49m\u001b[43m(\u001b[49m\u001b[43malpha\u001b[49m\u001b[38;5;241;43m.\u001b[39;49m\u001b[43mdevice\u001b[49m\u001b[43m)\u001b[49m\n\u001b[0;32m     33\u001b[0m digamma_alpha \u001b[38;5;241m=\u001b[39m torch\u001b[38;5;241m.\u001b[39mdigamma(alpha)\n\u001b[0;32m     34\u001b[0m digamma_S \u001b[38;5;241m=\u001b[39m torch\u001b[38;5;241m.\u001b[39mdigamma(S\u001b[38;5;241m.\u001b[39munsqueeze(\u001b[38;5;241m1\u001b[39m))\n",
      "\u001b[1;31mKeyboardInterrupt\u001b[0m: "
     ]
    }
   ],
   "source": [
    "history = train(model=model,train_loader=train_loader,val_loader=val_loader,\n",
    "    optimizer=optimizer,loss_fn=loss_fn,device=device,num_epochs=num_epochs)"
   ]
  },
  {
   "cell_type": "code",
   "execution_count": null,
   "id": "bc5ca009",
   "metadata": {},
   "outputs": [],
   "source": [
    "fig = plot_history(history)"
   ]
  },
  {
   "cell_type": "code",
   "execution_count": null,
   "id": "814e51c2",
   "metadata": {},
   "outputs": [],
   "source": [
    "test_metrics = test(model, test_loader, device=device)"
   ]
  },
  {
   "cell_type": "code",
   "execution_count": null,
   "id": "a1a66cbb",
   "metadata": {},
   "outputs": [],
   "source": [
    "image_grid = grid(model, test_loader, device=device)"
   ]
  },
  {
   "cell_type": "code",
   "execution_count": null,
   "id": "5f3cc6e2",
   "metadata": {},
   "outputs": [],
   "source": [
    "image_grid.savefig(f'results/finetuned_grids/ftd_{model_name}.png')\n",
    "plt.close(fig)"
   ]
  },
  {
   "cell_type": "code",
   "execution_count": null,
   "id": "4ed48b1d",
   "metadata": {},
   "outputs": [],
   "source": [
    "new_row = {\n",
    "    \"model_name\": f\"ftd_{model_name}\",\n",
    "    \"acc\": test_metrics[\"acc\"],\n",
    "    \"precision\": test_metrics[\"precision\"],\n",
    "    \"recall\": test_metrics[\"recall\"],\n",
    "    \"f1\": test_metrics[\"f1\"]\n",
    "}\n",
    "csv_path = \"tableau_final.csv\"\n",
    "if os.path.exists(csv_path):\n",
    "    df = pd.read_csv(csv_path)\n",
    "else:\n",
    "    df = pd.DataFrame(columns=[\"model_name\", \"acc\", \"precision\", \"recall\", \"f1\"])\n",
    "\n",
    "# === Ajouter la nouvelle ligne ===\n",
    "df = pd.concat([df, pd.DataFrame([new_row])], ignore_index=True)\n",
    "\n",
    "# === Sauvegarder le CSV mis à jour ===\n",
    "df.to_csv(csv_path, index=False)\n",
    "\n",
    "# === Afficher le tableau final ===\n",
    "display(df)"
   ]
  },
  {
   "cell_type": "code",
   "execution_count": null,
   "id": "0f78c2b9",
   "metadata": {},
   "outputs": [],
   "source": [
    "train_data1, valid_data1 = split_dataset(test_ndhif, split_ratio=0.9)\n",
    "print(len(train_data1),\"train samples\")\n",
    "print(len(valid_data1),\"valid samples\")"
   ]
  },
  {
   "cell_type": "code",
   "execution_count": null,
   "id": "905a0c62",
   "metadata": {},
   "outputs": [],
   "source": [
    "train_dataset1 = JerseyNumberDataset(train_data1, image_size=image_size,cut=cut)\n",
    "valid_dataset1 = JerseyNumberDataset(valid_data1, image_size=image_size,cut=cut)"
   ]
  },
  {
   "cell_type": "code",
   "execution_count": null,
   "id": "7948a9c8",
   "metadata": {},
   "outputs": [],
   "source": [
    "train_loader1 = DataLoader(train_dataset1,num_workers=workers, batch_size=batch_size, shuffle=True,pin_memory=True)\n",
    "val_loader1 = DataLoader(valid_dataset1,num_workers=workers, batch_size=batch_size, shuffle=False,pin_memory=True)"
   ]
  },
  {
   "cell_type": "code",
   "execution_count": null,
   "id": "3c89e2a8",
   "metadata": {},
   "outputs": [],
   "source": [
    "lr_test = 1e-6\n",
    "optimizer_test = optim.Adam(model.parameters(), lr=lr_test)\n",
    "history = train(model=model,train_loader=train_loader1,val_loader=val_loader1,\n",
    "    optimizer=optimizer,loss_fn=loss_fn,device=device,num_epochs=num_epochs)"
   ]
  },
  {
   "cell_type": "code",
   "execution_count": null,
   "id": "a5ef0c20",
   "metadata": {},
   "outputs": [],
   "source": [
    "torch.save(model, f\"results/finetuned_models/ftd_{model_name}.pth\")\n"
   ]
  }
 ],
 "metadata": {
  "kernelspec": {
   "display_name": "jersey",
   "language": "python",
   "name": "python3"
  },
  "language_info": {
   "codemirror_mode": {
    "name": "ipython",
    "version": 3
   },
   "file_extension": ".py",
   "mimetype": "text/x-python",
   "name": "python",
   "nbconvert_exporter": "python",
   "pygments_lexer": "ipython3",
   "version": "3.10.18"
  }
 },
 "nbformat": 4,
 "nbformat_minor": 5
}
