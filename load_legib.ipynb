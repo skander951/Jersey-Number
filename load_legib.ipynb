{
 "cells": [
  {
   "cell_type": "code",
   "execution_count": null,
   "id": "d7a40fbf",
   "metadata": {},
   "outputs": [],
   "source": [
    "import torch\n",
    "import torch.optim as optim\n",
    "from torch.utils.data import DataLoader\n",
    "import matplotlib.pyplot as plt\n",
    "from src.data.data_loader import load_diwan_test,load_diwan_train, JerseyNumberDataset\n",
    "from src.data.data_handling import make_binary,plot_label_distribution\n",
    "from src.models.filtre import grid_filtre\n",
    "from src.utils.helpers import save_json"
   ]
  },
  {
   "cell_type": "code",
   "execution_count": null,
   "id": "23cfa5e1",
   "metadata": {},
   "outputs": [],
   "source": [
    "chemin_model=\"results/weights/filtre_thresh_0.9_basic_params_16.pth\"\n",
    "model_name = \"filtre_thresh_0.9_basic_params_16\""
   ]
  },
  {
   "cell_type": "code",
   "execution_count": null,
   "id": "ad929a6b",
   "metadata": {},
   "outputs": [],
   "source": [
    "device = torch.device(\"cuda\" if torch.cuda.is_available() else \"cpu\")\n",
    "print(f\"Using device: {device}\")"
   ]
  },
  {
   "cell_type": "code",
   "execution_count": null,
   "id": "4f234fe2",
   "metadata": {},
   "outputs": [],
   "source": [
    "model = torch.load(chemin_model, map_location=device)\n",
    "model.eval()\n",
    "b = model"
   ]
  },
  {
   "cell_type": "code",
   "execution_count": null,
   "id": "8ef9d227",
   "metadata": {},
   "outputs": [],
   "source": [
    "path1 = \"data/diwan/test\"\n",
    "path2_1 = \"data/diwan/train/seif_train_gt.json\"\n",
    "path2_2 = \"data/diwan/train/skander_train_gt.json\"\n",
    "data1 = load_diwan_test(path1)\n",
    "data2 = load_diwan_train([path2_1,path2_2])\n",
    "test_data = data1 + data2"
   ]
  },
  {
   "cell_type": "code",
   "execution_count": null,
   "id": "81e974a6",
   "metadata": {},
   "outputs": [],
   "source": [
    "test_data = make_binary(test_data,balance=True)\n",
    "plot_label_distribution(test_data)\n",
    "print(\"total test : \", len(test_data))"
   ]
  },
  {
   "cell_type": "code",
   "execution_count": null,
   "id": "4aa40fde",
   "metadata": {},
   "outputs": [],
   "source": [
    "cut = \"topbottom\"\n",
    "image_size = (224, 224)\n",
    "batch_size = 64\n",
    "workers = 1\n",
    "\n",
    "test_dataset = JerseyNumberDataset(test_data, image_size=image_size,cut=cut)\n",
    "test_loader = DataLoader(test_dataset,num_workers=workers, batch_size=batch_size, shuffle=True,pin_memory=True)"
   ]
  },
  {
   "cell_type": "code",
   "execution_count": null,
   "id": "e2fa1186",
   "metadata": {},
   "outputs": [],
   "source": [
    "metrics,cm = model.test_legib(test_loader, device=device)"
   ]
  },
  {
   "cell_type": "code",
   "execution_count": null,
   "id": "820e3226",
   "metadata": {},
   "outputs": [],
   "source": [
    "image_grid = grid_filtre(model=model,test_loader=test_loader,filtre = \"all\")"
   ]
  },
  {
   "cell_type": "code",
   "execution_count": null,
   "id": "08811d4a",
   "metadata": {},
   "outputs": [],
   "source": [
    "\"\"\"torch.save(model, f\"results/weights/{model_name}.pth\")\n",
    "save_json(metrics, f'results/test_metrics/{model_name}.json')\n",
    "cm.savefig(f'results/test_metrics/cm_{model_name}.png')\n",
    "image_grid.savefig(f'results/test_grid/{model_name}.png')\n",
    "plt.close(image_grid)\"\"\""
   ]
  }
 ],
 "metadata": {
  "kernelspec": {
   "display_name": "jersey",
   "language": "python",
   "name": "python3"
  },
  "language_info": {
   "codemirror_mode": {
    "name": "ipython",
    "version": 3
   },
   "file_extension": ".py",
   "mimetype": "text/x-python",
   "name": "python",
   "nbconvert_exporter": "python",
   "pygments_lexer": "ipython3",
   "version": "3.10.18"
  }
 },
 "nbformat": 4,
 "nbformat_minor": 5
}
