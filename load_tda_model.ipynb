{
 "cells": [
  {
   "cell_type": "code",
   "execution_count": null,
   "id": "12acd02e",
   "metadata": {},
   "outputs": [],
   "source": [
    "import torch\n",
    "import torch.optim as optim\n",
    "from torch.utils.data import DataLoader\n",
    "import matplotlib.pyplot as plt\n",
    "from src.data.data_loader import load_final, JerseyNumberDataset\n",
    "from src.data.data_handling import balancer,plot_label_distribution\n",
    "from src.models.train_test import test,grid\n",
    "from src.utils.helpers import save_json"
   ]
  },
  {
   "cell_type": "code",
   "execution_count": null,
   "id": "36a250ef",
   "metadata": {},
   "outputs": [],
   "source": [
    "chemin_model=\"results/finetuned_models/ftd_dirichlet_thresh0.6.pth\"\n",
    "model_name = \"finetuned_diwan_augmented_20k_dirichlet_blur_0.3\""
   ]
  },
  {
   "cell_type": "code",
   "execution_count": null,
   "id": "e819576a",
   "metadata": {},
   "outputs": [],
   "source": [
    "device = torch.device(\"cuda\" if torch.cuda.is_available() else \"cpu\")\n",
    "print(f\"Using device: {device}\")"
   ]
  },
  {
   "cell_type": "code",
   "execution_count": null,
   "id": "198c6f51",
   "metadata": {},
   "outputs": [],
   "source": [
    "model = torch.load(chemin_model, map_location=device)\n",
    "model.eval()\n",
    "b = model"
   ]
  },
  {
   "cell_type": "code",
   "execution_count": null,
   "id": "28b59412",
   "metadata": {},
   "outputs": [],
   "source": [
    "path = \"data/final/images\"\n",
    "test_data = load_final(path)\n",
    "test_data = balancer(test_data,max_0=0)\n",
    "print(\"total test : \", len(test_data))"
   ]
  },
  {
   "cell_type": "code",
   "execution_count": null,
   "id": "204d6f98",
   "metadata": {},
   "outputs": [],
   "source": [
    "plot_label_distribution(test_data)"
   ]
  },
  {
   "cell_type": "code",
   "execution_count": null,
   "id": "29ef96f6",
   "metadata": {},
   "outputs": [],
   "source": [
    "print(test_data[0])"
   ]
  },
  {
   "cell_type": "code",
   "execution_count": null,
   "id": "d06a4e4c",
   "metadata": {},
   "outputs": [],
   "source": [
    "cut = \"topbottom\"\n",
    "image_size = (224, 224)\n",
    "batch_size = 64\n",
    "workers = 1\n",
    "\n",
    "test_dataset = JerseyNumberDataset(test_data, image_size=image_size,cut=cut)\n",
    "test_loader = DataLoader(test_dataset,num_workers=workers, batch_size=batch_size, shuffle=True,pin_memory=True)"
   ]
  },
  {
   "cell_type": "code",
   "execution_count": null,
   "id": "a862803b",
   "metadata": {},
   "outputs": [],
   "source": [
    "metrics = test(model,test_loader, device=device)"
   ]
  },
  {
   "cell_type": "code",
   "execution_count": null,
   "id": "67e2e167",
   "metadata": {},
   "outputs": [],
   "source": [
    "image_grid = grid(model, test_loader, device=device)"
   ]
  },
  {
   "cell_type": "code",
   "execution_count": null,
   "id": "28bd1382",
   "metadata": {},
   "outputs": [],
   "source": [
    "\"\"\"torch.save(model, f\"results/weights/{model_name}.pth\")\n",
    "save_json(test_metrics, f'results/test_metrics/{model_name}.json')\n",
    "image_grid.savefig(f'results/test_grid/{model_name}.png')\n",
    "plt.close(image_grid)\"\"\""
   ]
  }
 ],
 "metadata": {
  "kernelspec": {
   "display_name": "jersey",
   "language": "python",
   "name": "python3"
  },
  "language_info": {
   "codemirror_mode": {
    "name": "ipython",
    "version": 3
   },
   "file_extension": ".py",
   "mimetype": "text/x-python",
   "name": "python",
   "nbconvert_exporter": "python",
   "pygments_lexer": "ipython3",
   "version": "3.10.18"
  }
 },
 "nbformat": 4,
 "nbformat_minor": 5
}
