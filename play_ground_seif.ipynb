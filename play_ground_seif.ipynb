{
 "cells": [
  {
   "cell_type": "code",
   "execution_count": 2,
   "id": "f54684ba",
   "metadata": {},
   "outputs": [
    {
     "name": "stdout",
     "output_type": "stream",
     "text": [
      "10309\n",
      "2029\n"
     ]
    }
   ],
   "source": [
    "from src.utils.helpers import read_json\n",
    "\n",
    "annotation_file_path = f\"data/diwan/train/seif_train_gt.json\"\n",
    "\n",
    "annotations = read_json(annotation_file_path)\n",
    "\n",
    "\n",
    "crops_annoteted = [crp['relative_path'] for crp in annotations]\n",
    "print(len(annotations))\n",
    "print(len([el for el in annotations if el['class'] not  in [-2,-1] ]))\n"
   ]
  },
  {
   "cell_type": "code",
   "execution_count": 14,
   "id": "39f278c5",
   "metadata": {},
   "outputs": [
    {
     "name": "stdout",
     "output_type": "stream",
     "text": [
      "6250\n",
      "1028\n"
     ]
    }
   ],
   "source": [
    "from src.utils.helpers import read_json\n",
    "\n",
    "annotation_file_path = f\"data/diwan_v2/diwan_v2_with_legib_numbers.json\"\n",
    "\n",
    "annotations = read_json(annotation_file_path)\n",
    "\n",
    "\n",
    "crops_annoteted = [crp['relative_path'] for crp in annotations]\n",
    "print(len(read_json(f\"data/diwan_v2/diwan_v2_with_legib.json\")))\n",
    "print(len([el for el in annotations if el['class'] not  in [-2,-1] ]))\n"
   ]
  },
  {
   "cell_type": "code",
   "execution_count": null,
   "id": "3c92c141",
   "metadata": {},
   "outputs": [],
   "source": []
  }
 ],
 "metadata": {
  "kernelspec": {
   "display_name": "jersey-id",
   "language": "python",
   "name": "python3"
  },
  "language_info": {
   "codemirror_mode": {
    "name": "ipython",
    "version": 3
   },
   "file_extension": ".py",
   "mimetype": "text/x-python",
   "name": "python",
   "nbconvert_exporter": "python",
   "pygments_lexer": "ipython3",
   "version": "3.10.18"
  }
 },
 "nbformat": 4,
 "nbformat_minor": 5
}
