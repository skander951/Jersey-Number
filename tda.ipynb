{
 "cells": [
  {
   "cell_type": "code",
   "execution_count": null,
   "id": "0452ddf4",
   "metadata": {},
   "outputs": [],
   "source": [
    "import torch\n",
    "import torch.optim as optim\n",
    "from torch.utils.data import DataLoader\n",
    "import matplotlib.pyplot as plt\n",
    "from src.utils.helpers import save_json, count_total_parameters\n",
    "from src.models.model import vit\n",
    "from src.models.loss import LossWrapper, Type2DirichletLoss, SoftmaxWithUncertaintyLoss\n",
    "from src.data.data_loader import load_soccernet,load_diwan_test,load_diwan_train,load_processed,load_ca12,load_reid,load_full, JerseyNumberDataset\n",
    "from src.data.data_handling import split_dataset, balancer, plot_label_distribution,augment_dataset, count_digit_frequency\n",
    "from src.models.train_test import train, plot_history, test, grid"
   ]
  },
  {
   "cell_type": "code",
   "execution_count": null,
   "id": "4794c274",
   "metadata": {},
   "outputs": [],
   "source": [
    "device=torch.device(\"cuda\" if torch.cuda.is_available() else \"cpu\")\n",
    "print(f\"Using device: {device}\")"
   ]
  },
  {
   "cell_type": "code",
   "execution_count": null,
   "id": "3f241df1",
   "metadata": {},
   "outputs": [],
   "source": [
    "uncertainty_head = \"dirichlet\" # \"dirichlet\" ou \"softmax\"\n",
    "base_loss = Type2DirichletLoss(num_classes=100) # Type2DirichletLoss ou SoftmaxWithUncertaintyLoss\n",
    "embed_dim = 120\n",
    "hidden_layers = 6\n",
    "attention_heads = 3\n",
    "\n",
    "model = vit(embed_dim=embed_dim,hidden_layers=hidden_layers,attention_heads=attention_heads,use_time=False,use_size=False,\\\n",
    "             uncertainty_head=uncertainty_head).to(device)\n",
    "count_total_parameters(model)"
   ]
  },
  {
   "cell_type": "code",
   "execution_count": null,
   "id": "d8cd5333",
   "metadata": {},
   "outputs": [],
   "source": [
    "thresh_ca12 = 0.6\n",
    "max_thresh_reid = 0.6\n",
    "min_thresh_reid = 0.02\n",
    "\n",
    "path1 = \"data/diwan/test\"\n",
    "path2_1 = \"data/diwan/train/seif_train_gt.json\"\n",
    "path2_2 = \"data/diwan/train/skander_train_gt.json\"\n",
    "path3 = \"data/soccernet\"\n",
    "path4 = \"data/ca12\"\n",
    "path5 = \"data/soccernet_reid\"\n",
    "path6 = \"data/full_dataset\"\n",
    "path7 = \"data/processed_dataset\"\n",
    "\n",
    "data1 = load_diwan_test(path1)\n",
    "print(len(data1),\"images dans diwan test\")\n",
    "data2 = load_diwan_train([path2_1,path2._2])\n",
    "print(len(data2),\"images dans diwan test\")\n",
    "data3 = load_soccernet(path3)\n",
    "print(len(data3),\"images dans soccernet\")\n",
    "data4 = load_ca12(path4,thresh=thresh_ca12)\n",
    "print(len(data4),\"images dans ca12\")\n",
    "data5 = load_reid(path5,max_thresh=max_thresh_reid,min_thresh=min_thresh_reid)\n",
    "print(len(data5),\"images dans reid_soccernet\")\n",
    "data6 = load_full(path6)\n",
    "print(len(data6),\"images dans full_dataset\")\n",
    "data7 = load_processed(path7,data = data6)\n",
    "print(len(data7),\"images dans processed\")"
   ]
  },
  {
   "cell_type": "code",
   "execution_count": null,
   "id": "96f08563",
   "metadata": {},
   "outputs": [],
   "source": [
    "train_data =  data3 + data4 + data5 + data6 + data7\n",
    "test_data = data1 + data2\n",
    "print(len(train_data),\"train samples\")\n",
    "print(len(test_data),\"test samples\")"
   ]
  },
  {
   "cell_type": "code",
   "execution_count": null,
   "id": "79365d78",
   "metadata": {},
   "outputs": [],
   "source": [
    "digit_counts = count_digit_frequency(train_data)\n",
    "print(\"Initial digit frequencies:\")\n",
    "for i in range(10):\n",
    "    print(f\"Digit {i}: {digit_counts[i]}\")"
   ]
  },
  {
   "cell_type": "code",
   "execution_count": null,
   "id": "8ca2faa7",
   "metadata": {},
   "outputs": [],
   "source": [
    "augment_dataset(data=train_data,num_liste=[6,5,8,9,4,3,0,7],target_per_digit=20000,output_folder=\"augmented/images\",json_path=\"augmented/data.json\")\n",
    "print(len(train_data),\"train samples\")"
   ]
  },
  {
   "cell_type": "code",
   "execution_count": null,
   "id": "6fcb6d59",
   "metadata": {},
   "outputs": [],
   "source": [
    "blur_ratio=0.3\n",
    "train_data = balancer(train_data,max_0=0,blur_ratio=blur_ratio)\n",
    "test_data = balancer(test_data,max_0=0)\n",
    "print(len(train_data),\"train samples\")\n",
    "print(len(test_data),\"test samples\")"
   ]
  },
  {
   "cell_type": "code",
   "execution_count": null,
   "id": "06b4220d",
   "metadata": {},
   "outputs": [],
   "source": [
    "plot_label_distribution(train_data, title=\"Distribution des numéros de maillot (train)\")\n",
    "plot_label_distribution(test_data, title=\"Distribution test\")"
   ]
  },
  {
   "cell_type": "code",
   "execution_count": null,
   "id": "1da044c7",
   "metadata": {},
   "outputs": [],
   "source": [
    "split_ratio = 0.8\n",
    "train_data, valid_data = split_dataset(train_data, split_ratio=split_ratio)\n",
    "print(len(train_data),\"train samples\")\n",
    "print(len(valid_data),\"valid samples\")"
   ]
  },
  {
   "cell_type": "code",
   "execution_count": null,
   "id": "840fcac6",
   "metadata": {},
   "outputs": [],
   "source": [
    "cut = \"topbottom\"\n",
    "image_size = (224, 224)\n",
    "train_dataset = JerseyNumberDataset(train_data, image_size=image_size,cut=cut)\n",
    "valid_dataset = JerseyNumberDataset(valid_data, image_size=image_size,cut=cut)"
   ]
  },
  {
   "cell_type": "code",
   "execution_count": null,
   "id": "0096eb64",
   "metadata": {},
   "outputs": [],
   "source": [
    "# DataLoaders\n",
    "batch_size = 128\n",
    "workers = 2\n",
    "train_loader = DataLoader(train_dataset,num_workers=workers, batch_size=batch_size, shuffle=True,pin_memory=True)\n",
    "val_loader = DataLoader(valid_dataset,num_workers=workers, batch_size=batch_size, shuffle=False,pin_memory=True)"
   ]
  },
  {
   "cell_type": "code",
   "execution_count": null,
   "id": "88046f7d",
   "metadata": {},
   "outputs": [],
   "source": [
    "num_epochs = 50\n",
    "lr = 2e-4\n",
    "loss_fn = LossWrapper(base_loss)\n",
    "optimizer = optim.Adam(model.parameters(), lr=lr)"
   ]
  },
  {
   "cell_type": "code",
   "execution_count": null,
   "id": "701352ff",
   "metadata": {},
   "outputs": [],
   "source": [
    "history = train(model=model,train_loader=train_loader,val_loader=val_loader,\n",
    "    optimizer=optimizer,loss_fn=loss_fn,device=device,num_epochs=num_epochs)"
   ]
  },
  {
   "cell_type": "code",
   "execution_count": null,
   "id": "9246ee71",
   "metadata": {},
   "outputs": [],
   "source": [
    "fig = plot_history(history)"
   ]
  },
  {
   "cell_type": "code",
   "execution_count": null,
   "id": "110bf298",
   "metadata": {},
   "outputs": [],
   "source": [
    "test_dataset = JerseyNumberDataset(test_data, image_size=image_size,cut=cut)\n",
    "test_loader = DataLoader(test_dataset,num_workers=workers, batch_size=batch_size,pin_memory=True)"
   ]
  },
  {
   "cell_type": "code",
   "execution_count": null,
   "id": "f10e6df6",
   "metadata": {},
   "outputs": [],
   "source": [
    "test_metrics = test(model, test_loader, device=device)"
   ]
  },
  {
   "cell_type": "code",
   "execution_count": null,
   "id": "8ea2f7cf",
   "metadata": {},
   "outputs": [],
   "source": [
    "image_grid = grid(model, test_loader, device=device)"
   ]
  },
  {
   "cell_type": "code",
   "execution_count": null,
   "id": "968ad8a2",
   "metadata": {},
   "outputs": [],
   "source": [
    "model_name = f'new_aug_20K_blur_{blur_ratio}_{uncertainty_head}_thresh{max_thresh_reid}'\n",
    "torch.save(model, f\"results/weights/{model_name}.pth\")\n",
    "save_json(test_metrics, f'results/test_metrics/{model_name}.json')\n",
    "fig.savefig(f'results/train_history/{model_name}.png')\n",
    "image_grid.savefig(f'results/test_grid/{model_name}.png')\n",
    "plt.close(fig)\n",
    "plt.close(image_grid)"
   ]
  }
 ],
 "metadata": {
  "kernelspec": {
   "display_name": "jersey",
   "language": "python",
   "name": "python3"
  },
  "language_info": {
   "codemirror_mode": {
    "name": "ipython",
    "version": 3
   },
   "file_extension": ".py",
   "mimetype": "text/x-python",
   "name": "python",
   "nbconvert_exporter": "python",
   "pygments_lexer": "ipython3",
   "version": "3.10.18"
  }
 },
 "nbformat": 4,
 "nbformat_minor": 5
}
