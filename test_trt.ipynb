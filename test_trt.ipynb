{
 "cells": [
  {
   "cell_type": "code",
   "execution_count": null,
   "id": "1eb150a1",
   "metadata": {},
   "outputs": [],
   "source": [
    "from torch.utils.data import DataLoader\n",
    "from src.data.data_loader import load_final, JerseyNumberDataset\n",
    "from src.data.data_handling import balancer"
   ]
  },
  {
   "cell_type": "code",
   "execution_count": null,
   "id": "edd6da02",
   "metadata": {},
   "outputs": [],
   "source": [
    "path = \"data/final/images\"\n",
    "test_data = load_final(path)\n",
    "test_data = balancer(test_data,max_0=0)\n",
    "print(\"total test : \", len(test_data))"
   ]
  },
  {
   "cell_type": "code",
   "execution_count": null,
   "id": "3b7be665",
   "metadata": {},
   "outputs": [],
   "source": [
    "cut = \"topbottom\"\n",
    "image_size = (224, 224)\n",
    "batch_size = 64\n",
    "workers = 1\n",
    "\n",
    "test_dataset = JerseyNumberDataset(test_data, image_size=image_size,cut=cut)\n",
    "test_loader = DataLoader(test_dataset,num_workers=workers, batch_size=batch_size, shuffle=True,pin_memory=True)"
   ]
  },
  {
   "cell_type": "code",
   "execution_count": null,
   "id": "c21302ab",
   "metadata": {},
   "outputs": [],
   "source": [
    "import pycuda.autoinit\n",
    "import pycuda.driver as cuda\n",
    "import tensorrt as trt\n",
    "import numpy as np\n",
    "import matplotlib.pyplot as plt\n",
    "\n",
    "def grid_trt(engine_path, test_loader, num_images=100, input_shape=(3,224,224), device='cuda'):\n",
    "    TRT_LOGGER = trt.Logger(trt.Logger.WARNING)\n",
    "    with open(engine_path, \"rb\") as f, trt.Runtime(TRT_LOGGER) as runtime:\n",
    "        engine = runtime.deserialize_cuda_engine(f.read())\n",
    "    context = engine.create_execution_context()\n",
    "\n",
    "    batch_size = 1\n",
    "    input_nbytes = np.prod((batch_size, *input_shape)) * np.float32().nbytes\n",
    "    output_nbytes = np.prod((batch_size, 100)) * np.float32().nbytes \n",
    "\n",
    "    d_input = cuda.mem_alloc(int(input_nbytes))\n",
    "    d_output = cuda.mem_alloc(int(output_nbytes))\n",
    "    output = np.empty((batch_size, 100), dtype=np.float32)\n",
    "\n",
    "    images_to_show = []\n",
    "    preds_to_show = []\n",
    "    labels_to_show = []\n",
    "\n",
    "    for batch in test_loader:\n",
    "        images = batch[\"x\"]\n",
    "        labels = batch[\"y\"]\n",
    "\n",
    "        for i in range(images.size(0)):\n",
    "            if len(images_to_show) >= num_images:\n",
    "                break\n",
    "\n",
    "            img = images[i].numpy().astype(np.float32)\n",
    "            img = np.ascontiguousarray(img[np.newaxis, ...])\n",
    "\n",
    "            cuda.memcpy_htod(d_input, img)\n",
    "\n",
    "            bindings = [int(d_input), int(d_output)]\n",
    "            context.execute_v2(bindings=bindings)\n",
    "\n",
    "            cuda.memcpy_dtoh(output, d_output)\n",
    "\n",
    "            pred = int(np.argmax(output[0]))\n",
    "\n",
    "            images_to_show.append(images[i])\n",
    "            preds_to_show.append(pred)\n",
    "            labels_to_show.append(labels[i].item())\n",
    "\n",
    "        if len(images_to_show) >= num_images:\n",
    "            break\n",
    "\n",
    "    cols = 10\n",
    "    rows = (num_images + cols - 1) // cols\n",
    "    fig = plt.figure(figsize=(cols * 3.2, rows * 3.2))\n",
    "    num_display = len(images_to_show)\n",
    "\n",
    "    for i in range(num_display):\n",
    "        img = images_to_show[i].permute(1, 2, 0).numpy().clip(0, 1)\n",
    "        pred = preds_to_show[i]\n",
    "        label = labels_to_show[i]\n",
    "\n",
    "        ax = fig.add_subplot(rows, cols, i + 1)\n",
    "        ax.imshow(img)\n",
    "        ax.axis(\"off\")\n",
    "        color = \"green\" if pred == label else \"red\"\n",
    "        title = f\"True: {label}\\nPred: {pred}\"\n",
    "\n",
    "        ax.text(\n",
    "            5, 20,\n",
    "            title,\n",
    "            fontsize=10,\n",
    "            color=color,\n",
    "            bbox=dict(facecolor=\"black\", alpha=0.6, pad=3)\n",
    "        )\n",
    "\n",
    "    plt.tight_layout()\n",
    "    plt.savefig(\"grida.png\", dpi=150, bbox_inches=\"tight\")\n",
    "    plt.show()\n"
   ]
  },
  {
   "cell_type": "code",
   "execution_count": null,
   "id": "bcd09bb0",
   "metadata": {},
   "outputs": [],
   "source": [
    "grid_trt(\"results/trt_models/vit_model_fp16.trt\",test_loader=test_loader)"
   ]
  }
 ],
 "metadata": {
  "kernelspec": {
   "display_name": "jersey",
   "language": "python",
   "name": "python3"
  },
  "language_info": {
   "codemirror_mode": {
    "name": "ipython",
    "version": 3
   },
   "file_extension": ".py",
   "mimetype": "text/x-python",
   "name": "python",
   "nbconvert_exporter": "python",
   "pygments_lexer": "ipython3",
   "version": "3.10.18"
  }
 },
 "nbformat": 4,
 "nbformat_minor": 5
}
